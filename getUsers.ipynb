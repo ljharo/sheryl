{
  "cells": [
    {
      "cell_type": "code",
      "execution_count": 35,
      "metadata": {},
      "outputs": [],
      "source": [
        "from selenium.webdriver.common.by import By\n",
        "import undetected_chromedriver as uc\n",
        "from selenium.webdriver.support.wait import WebDriverWait\n",
        "from selenium.webdriver.support import expected_conditions\n",
        "from selenium.webdriver.common.action_chains import ActionChains\n",
        "from selenium.webdriver.common.keys import Keys\n",
        "from time import sleep\n",
        "import json\n"
      ]
    },
    {
      "cell_type": "code",
      "execution_count": 36,
      "metadata": {},
      "outputs": [],
      "source": [
        "username = 'sheryl.ter34@gmail.com'\n",
        "password = 'Blueocean-299'"
      ]
    },
    {
      "cell_type": "code",
      "execution_count": 37,
      "metadata": {},
      "outputs": [
        {
          "name": "stdout",
          "output_type": "stream",
          "text": [
            "4\n",
            "2\n"
          ]
        }
      ],
      "source": [
        "options = uc.ChromeOptions()\n",
        "options.set_capability('goog:loggingPrefs', {'performance': 'ALL'})\n",
        "options.add_experimental_option('prefs', {'intl.accept_languages': 'es'})\n",
        "driver = uc.Chrome(headless=True, options=options)#, version_main=120)\n",
        "driver.get('https://www.facebook.com/')\n",
        "\n",
        "# Se logea\n",
        "WebDriverWait(\n",
        "    driver, 60).until(expected_conditions.presence_of_element_located(\n",
        "        (By.ID, 'email'))).send_keys(username)\n",
        "driver.find_element(By.ID, 'pass').send_keys(password)\n",
        "driver.get_screenshot_as_file('screenshot1.png')\n",
        "WebDriverWait(\n",
        "    driver, 60).until(expected_conditions.element_to_be_clickable(\n",
        "        (By.XPATH, '//button[@type=\"submit\"]'))).click()\n",
        "driver.get_screenshot_as_file('screenshot2.png')\n",
        "with open('texto.html', 'w') as html_file:\n",
        "    html_file.write(driver.page_source)\n",
        "# Espera a que abra la página logueada\n",
        "WebDriverWait(\n",
        "    driver, 60).until(expected_conditions.presence_of_element_located(\n",
        "        (By.XPATH, '//span[text()=\"Grupos\"]')))\n",
        "\n",
        "\n",
        "# Abre el grupo\n",
        "driver.set_window_size(1600, 8000)\n",
        "#driver.get('https://www.facebook.com/groups/157087343117679/?ref=share&mibextid=FvvcmW')\n",
        "driver.get('https://www.facebook.com/profile.php?id=100067031089582')\n",
        "sleep(10)\n",
        "ActionChains(driver).send_keys(Keys.ESCAPE).perform()\n",
        "# images = WebDriverWait(driver, 180).until(expected_conditions.presence_of_all_elements_located(\n",
        "#         (By.XPATH, '//img[@height=\"18\"]')))\n",
        "sleep(60)\n",
        "images = driver.find_elements(By.XPATH, '//img[@height=\"18\"]')\n",
        "driver.get_screenshot_as_file('screenshot3.png')\n",
        "print(len(images))\n",
        "for image in images:\n",
        "    ActionChains(driver).move_to_element(image).perform()\n",
        "    sleep(5)\n",
        "comments_to_hover = driver.find_elements(By.XPATH, '//span[contains(text(), \"comentarios\")]')\n",
        "print(len(comments_to_hover))\n",
        "\n",
        "for comment in comments_to_hover:\n",
        "    ActionChains(driver).move_to_element(comment).perform()\n",
        "    sleep(5)\n",
        "\n",
        "\n",
        "\n",
        "logs = driver.get_log(\"performance\")\n",
        "events = [json.loads(entry['message'])['message'] for entry in logs]\n",
        "events = [event for event in events if 'method' in event and 'Network.response' in event['method']]\n",
        "bodies = []\n",
        "\n",
        "# data = [driver.execute_cdp_cmd('Network.getResponseBody', {'requestId': event[\"params\"][\"requestId\"]}) for event in events]\n",
        "for event in events:\n",
        "    # print(event[\"params\"][\"requestId\"])\n",
        "    # print(driver.execute_cdp_cmd('Network.getResponseBody', {'requestId': event[\"params\"][\"requestId\"]}))\n",
        "    try:\n",
        "        body = driver.execute_cdp_cmd('Network.getResponseBody', {'requestId': event[\"params\"][\"requestId\"]})\n",
        "        body[\"body\"] = json.loads(body[\"body\"])\n",
        "        if 'feedback' in body[\"body\"][\"data\"] and ('reactors' in body[\"body\"][\"data\"][\"feedback\"] or 'commenters' in body[\"body\"][\"data\"][\"feedback\"]):\n",
        "            bodies.append(body)\n",
        "    except:\n",
        "        pass\n",
        "\n",
        "driver.quit()"
      ]
    },
    {
      "cell_type": "code",
      "execution_count": 38,
      "metadata": {},
      "outputs": [
        {
          "data": {
            "text/plain": [
              "{'base64Encoded': False,\n",
              " 'body': {'data': {'feedback': {'total_comment_count': 3,\n",
              "    'commenters': {'count': 3,\n",
              "     'edges': [{'node': {'__typename': 'User',\n",
              "        'name': 'Giorgina González Aguilar',\n",
              "        'id': '815737235'}},\n",
              "      {'node': {'__typename': 'User',\n",
              "        'name': 'Reiny Rodriguez',\n",
              "        'id': '100006656836743'}},\n",
              "      {'node': {'__typename': 'User',\n",
              "        'name': 'Jorge Luis González Aguilar',\n",
              "        'id': '624217742'}}]},\n",
              "    'id': 'ZmVlZGJhY2s6NjgxNTQ4ODY3NDIyODEw'}},\n",
              "  'extensions': {'is_final': True}}}"
            ]
          },
          "execution_count": 38,
          "metadata": {},
          "output_type": "execute_result"
        }
      ],
      "source": [
        "bodies[8]"
      ]
    },
    {
      "cell_type": "code",
      "execution_count": 39,
      "metadata": {},
      "outputs": [
        {
          "data": {
            "text/plain": [
              "{('100000883198689',\n",
              "  'Carmen Aguilar de González',\n",
              "  'ZmVlZGJhY2s6NjU3NTExNDYzMTU5ODg0'),\n",
              " ('100004933322691',\n",
              "  'Carlos Julio Chirinos Delgado',\n",
              "  'ZmVlZGJhY2s6NjgxNTQ4ODY3NDIyODEw'),\n",
              " ('100006656836743', 'Reiny Rodriguez', 'ZmVlZGJhY2s6NjgxNTQ4ODY3NDIyODEw'),\n",
              " ('100067031089582', 'GioTest', 'ZmVlZGJhY2s6NjU3NTExNDYzMTU5ODg0'),\n",
              " ('1021676186', 'Juan Vasquez', 'ZmVlZGJhY2s6NjgxNTQ4ODY3NDIyODEw'),\n",
              " ('624217742',\n",
              "  'Jorge Luis González Aguilar',\n",
              "  'ZmVlZGJhY2s6NjgxNTQ4ODY3NDIyODEw'),\n",
              " ('815737235',\n",
              "  'Giorgina González Aguilar',\n",
              "  'ZmVlZGJhY2s6NjgxNTQ4ODY3NDIyODEw')}"
            ]
          },
          "execution_count": 39,
          "metadata": {},
          "output_type": "execute_result"
        }
      ],
      "source": [
        "reactions = set()\n",
        "for body in bodies:\n",
        "    if 'reactors' in body[\"body\"][\"data\"][\"feedback\"]:\n",
        "        for node in body[\"body\"][\"data\"][\"feedback\"][\"reactors\"][\"nodes\"]:\n",
        "            reactions.add((node[\"id\"], node[\"name\"], body['body']['data']['feedback']['id']))\n",
        "    if 'commenters' in body[\"body\"][\"data\"][\"feedback\"]:\n",
        "        for edge in body[\"body\"][\"data\"][\"feedback\"][\"commenters\"][\"edges\"]:\n",
        "            reactions.add((edge[\"node\"][\"id\"], edge[\"node\"][\"name\"],\n",
        "                          body['body']['data']['feedback']['id']))\n",
        "\n",
        "reactions"
      ]
    }
  ],
  "metadata": {
    "kernelspec": {
      "display_name": ".venv",
      "language": "python",
      "name": "python3"
    },
    "language_info": {
      "codemirror_mode": {
        "name": "ipython",
        "version": 3
      },
      "file_extension": ".py",
      "mimetype": "text/x-python",
      "name": "python",
      "nbconvert_exporter": "python",
      "pygments_lexer": "ipython3",
      "version": "3.12.10"
    },
    "orig_nbformat": 4
  },
  "nbformat": 4,
  "nbformat_minor": 2
}
