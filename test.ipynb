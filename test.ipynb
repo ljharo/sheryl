{
 "cells": [
  {
   "cell_type": "code",
   "execution_count": null,
   "id": "48ed549f",
   "metadata": {},
   "outputs": [],
   "source": [
    "from scraper import UndetectedLinkedinScraper as ULS\n",
    "from selenium.webdriver.common.by import By\n",
    "from dotenv import load_dotenv \n",
    "import os\n",
    "\n",
    "load_dotenv()\n",
    "\n",
    "USERNAME = os.environ.get(\"L_EMAIL\")\n",
    "PASSWORD = os.environ.get(\"L_PASSWORD\")\n"
   ]
  },
  {
   "cell_type": "code",
   "execution_count": null,
   "id": "e7803a84",
   "metadata": {},
   "outputs": [],
   "source": [
    "scraper = ULS(USERNAME, PASSWORD)\n",
    "scraper.star()\n"
   ]
  },
  {
   "cell_type": "code",
   "execution_count": null,
   "id": "79540d65",
   "metadata": {},
   "outputs": [],
   "source": [
    "driver = scraper.driver\n",
    "scraper.login()"
   ]
  }
 ],
 "metadata": {
  "kernelspec": {
   "display_name": ".venv",
   "language": "python",
   "name": "python3"
  },
  "language_info": {
   "codemirror_mode": {
    "name": "ipython",
    "version": 3
   },
   "file_extension": ".py",
   "mimetype": "text/x-python",
   "name": "python",
   "nbconvert_exporter": "python",
   "pygments_lexer": "ipython3",
   "version": "3.12.10"
  }
 },
 "nbformat": 4,
 "nbformat_minor": 5
}
