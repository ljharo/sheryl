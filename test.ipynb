{
 "cells": [
  {
   "cell_type": "code",
   "execution_count": 1,
   "id": "48ed549f",
   "metadata": {},
   "outputs": [],
   "source": [
    "from scraper import UndetectedFacebookScraper as UFS\n",
    "from dotenv import load_dotenv \n",
    "import random\n",
    "import time\n",
    "import os\n",
    "\n",
    "load_dotenv()\n",
    "\n",
    "USERNAME = os.environ.get(\"EMAIL\")\n",
    "PASSWORD = os.environ.get(\"PASSWORD\")\n"
   ]
  },
  {
   "cell_type": "code",
   "execution_count": 2,
   "id": "6f7cd422",
   "metadata": {},
   "outputs": [
    {
     "name": "stdout",
     "output_type": "stream",
     "text": [
      "Login successful\n",
      "Capturing data from: https://www.facebook.com\n",
      "Capturing data from: https://www.facebook.com/groups/data.engineering.israel/?ref=share&mibextid=adzO7l\n",
      "Capturing data from: https://www.facebook.com/groups/4786200704742846/?ref=share&mibextid=adzO7l\n",
      "Capturing data from: https://www.facebook.com/groups/computervisiondeeplearning/?ref=share&mibextid=adzO7l\n",
      "Capturing data from: https://www.facebook.com/groups/cvonly/?ref=share&mibextid=adzO7l\n",
      "Data saved to json/facebook_graphql_data.json\n",
      "\n",
      "Scraping complete. Captured 22 GraphQL interactions.\n"
     ]
    }
   ],
   "source": [
    "scraper = UFS(USERNAME, PASSWORD, headless=False)\n",
    "try:\n",
    "    scraper.star()\n",
    "    if scraper.login():\n",
    "        # Navigate to different parts of Facebook to capture data\n",
    "        targets = [\n",
    "            \"https://www.facebook.com\",\n",
    "            \"https://www.facebook.com/groups/data.engineering.israel/?ref=share&mibextid=adzO7l\",\n",
    "            \"https://www.facebook.com/groups/4786200704742846/?ref=share&mibextid=adzO7l\",\n",
    "            \"https://www.facebook.com/groups/computervisiondeeplearning/?ref=share&mibextid=adzO7l\",\n",
    "            \"https://www.facebook.com/groups/cvonly/?ref=share&mibextid=adzO7l\"\n",
    "        ]\n",
    "        \n",
    "        for target in targets:\n",
    "            print(f\"Capturing data from: {target}\")\n",
    "            scraper.capture_network_requests(target)\n",
    "            time.sleep(random.uniform(2, 5))\n",
    "        \n",
    "        # Save all captured data\n",
    "        scraper.save_data()\n",
    "        \n",
    "        # Print summary\n",
    "        graphql_data = scraper.extract_graphql_data()\n",
    "        print(f\"\\nScraping complete. Captured {len(graphql_data)} GraphQL interactions.\")\n",
    "except Exception as e:\n",
    "    print(f\"Error occurred: {str(e)}\")\n",
    "# finally:\n",
    "#         scraper.end()"
   ]
  },
  {
   "cell_type": "code",
   "execution_count": 3,
   "id": "de6507f6",
   "metadata": {},
   "outputs": [
    {
     "name": "stdout",
     "output_type": "stream",
     "text": [
      "Data saved to json/facebook_graphql_data.json\n",
      "\n",
      "Scraping complete. Captured 22 GraphQL interactions.\n"
     ]
    }
   ],
   "source": [
    "scraper.save_data()    \n",
    "# Print summary\n",
    "graphql_data = scraper.extract_graphql_data()\n",
    "print(f\"\\nScraping complete. Captured {len(graphql_data)} GraphQL interactions.\")"
   ]
  }
 ],
 "metadata": {
  "kernelspec": {
   "display_name": ".venv",
   "language": "python",
   "name": "python3"
  },
  "language_info": {
   "codemirror_mode": {
    "name": "ipython",
    "version": 3
   },
   "file_extension": ".py",
   "mimetype": "text/x-python",
   "name": "python",
   "nbconvert_exporter": "python",
   "pygments_lexer": "ipython3",
   "version": "3.12.4"
  }
 },
 "nbformat": 4,
 "nbformat_minor": 5
}
