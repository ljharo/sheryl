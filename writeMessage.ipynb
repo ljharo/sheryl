{
 "cells": [
  {
   "cell_type": "code",
   "execution_count": 4,
   "metadata": {},
   "outputs": [],
   "source": [
    "import os\n",
    "from time import sleep\n",
    "from dotenv import load_dotenv\n",
    "import undetected_chromedriver as uc\n",
    "from selenium.webdriver.common.by import By\n",
    "from selenium.webdriver.common.keys import Keys\n",
    "from selenium.webdriver.support.wait import WebDriverWait\n",
    "from selenium.webdriver.support import expected_conditions\n",
    "from selenium.webdriver.common.action_chains import ActionChains\n",
    "\n",
    "load_dotenv()\n",
    "\n",
    "EMAIL: str = os.environ.get(\"EMAIL\")\n",
    "PASSWORD: str = os.environ.get(\"PASSWORD\")"
   ]
  },
  {
   "cell_type": "code",
   "execution_count": 5,
   "metadata": {},
   "outputs": [],
   "source": [
    "# change to true if you want the chrome window to be shown\n",
    "show_window = True \n",
    "\n",
    "if not show_window:\n",
    "    options = uc.ChromeOptions()\n",
    "    options.set_capability('goog:loggingPrefs', {'performance': 'ALL'})\n",
    "    options.add_experimental_option('prefs', {'intl.accept_languages': 'es'})\n",
    "\n",
    "    driver = uc.Chrome(headless=False, options=options, version_main=120)\n",
    "    driver.get('https://www.facebook.com/')\n",
    "else:\n",
    "    options = uc.ChromeOptions()\n",
    "    options.add_argument(\"--start-maximized\")\n",
    "\n",
    "    try:\n",
    "        driver = uc.Chrome(options=options)\n",
    "        driver.get('https://www.facebook.com/')\n",
    "    except Exception as e:\n",
    "        print(f\"Error al iniciar el navegador: {e}\")\n"
   ]
  },
  {
   "cell_type": "code",
   "execution_count": 6,
   "metadata": {},
   "outputs": [
    {
     "data": {
      "text/plain": [
       "True"
      ]
     },
     "execution_count": 6,
     "metadata": {},
     "output_type": "execute_result"
    }
   ],
   "source": [
    "# Se logea\n",
    "WebDriverWait(\n",
    "    driver, 60).until(expected_conditions.presence_of_element_located(\n",
    "        (By.ID, 'email'))).send_keys(EMAIL)\n",
    "driver.find_element(By.ID, 'pass').send_keys(PASSWORD)\n",
    "driver.get_screenshot_as_file('screenshot1.png')\n",
    "WebDriverWait(\n",
    "    driver, 60).until(expected_conditions.element_to_be_clickable(\n",
    "        (By.XPATH, '//button[@type=\"submit\"]'))).click()\n",
    "\n",
    "# Espera a que abra la página logueada\n",
    "WebDriverWait(\n",
    "    driver, 60).until(expected_conditions.presence_of_element_located(\n",
    "        (By.XPATH, '//span[text()=\"Grupos\"]')))\n",
    "driver.get_screenshot_as_file('screenshot2.png')\n"
   ]
  },
  {
   "cell_type": "code",
   "execution_count": null,
   "metadata": {},
   "outputs": [],
   "source": [
    "\n",
    "# Abre el grupo\n",
    "driver.get('https://www.facebook.com/messages/t/815737235')\n",
    "sleep(10)\n",
    "ActionChains(driver).send_keys(Keys.ESCAPE).perform()\n",
    "textbox = WebDriverWait(\n",
    "    driver, 60).until(expected_conditions.element_to_be_clickable(\n",
    "        (By.XPATH, '//div[@role=\"textbox\"]')))\n",
    "\n",
    "textbox.send_keys(\"Hi! How can I help you\")\n",
    "\n",
    "# Mantener esta línea comentada para pruebas\n",
    "textbox.send_keys(Keys.ENTER)\n",
    "\n",
    "driver.get_screenshot_as_file('screenshot3.png')\n",
    "with open('texto.html', 'w') as html_file:\n",
    "    html_file.write(driver.page_source)\n",
    "\n",
    "driver.quit()"
   ]
  }
 ],
 "metadata": {
  "kernelspec": {
   "display_name": ".venv",
   "language": "python",
   "name": "python3"
  },
  "language_info": {
   "codemirror_mode": {
    "name": "ipython",
    "version": 3
   },
   "file_extension": ".py",
   "mimetype": "text/x-python",
   "name": "python",
   "nbconvert_exporter": "python",
   "pygments_lexer": "ipython3",
   "version": "3.12.10"
  },
  "orig_nbformat": 4
 },
 "nbformat": 4,
 "nbformat_minor": 2
}
